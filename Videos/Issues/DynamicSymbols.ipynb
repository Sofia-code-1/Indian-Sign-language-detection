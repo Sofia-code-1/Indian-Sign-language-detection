{
 "cells": [
  {
   "cell_type": "code",
   "execution_count": 6,
   "metadata": {},
   "outputs": [],
   "source": [
    "HandOneLandMarksDict ={}\n",
    "HandOneLandMarksDict[0] = [[0, 713, 601, 0], [1, 739, 561, 12], [2, 741, 513, 17], [3, 719, 478, 22], [4, 690, 475, 26], [5, 722, 488, -16], [6, 687, 476, -22], [7, 688, 493, -24], [8, 697, 503, -23], [9, 693, 497, -28], [10, 663, 491, -28], [11, 664, 507, -23], [12, 672, 516, -23], [13, 665, 511, -35], [14, 638, 500, -49], [15, 640, 515, -45], [16, 650, 525, -41], [17, 640, 527, -39], [18, 616, 490, -53], [19, 600, 467, -55], [20, 591, 446, -55]]\n",
    "HandOneLandMarksDict[1] = [[0, 512, 600, 0], [1, 473, 565, 15], [2, 463, 523, 16], [3, 478, 484, 16], [4, 504, 471, 21], [5, 496, 487, 4], [6, 501, 471, 17], [7, 499, 486, 27], [8, 497, 501, 34], [9, 528, 491, -5], [10, 530, 477, 17], [11, 526, 491, 22], [12, 522, 506, 20], [13, 555, 501, -8], [14, 557, 481, 0], [15, 552, 491, 8], [16, 547, 506, 11], [17, 576, 514, -8], [18, 590, 483, -3], [19, 593, 462, 8], [20, 592, 447, 16]]"
   ]
  },
  {
   "cell_type": "code",
   "execution_count": 7,
   "metadata": {},
   "outputs": [
    {
     "name": "stdout",
     "output_type": "stream",
     "text": [
      "2\n"
     ]
    }
   ],
   "source": [
    "print(len(HandOneLandMarksDict))"
   ]
  },
  {
   "cell_type": "code",
   "execution_count": 9,
   "metadata": {},
   "outputs": [
    {
     "name": "stdout",
     "output_type": "stream",
     "text": [
      "[[0, 713, 601, 0], [1, 739, 561, 12], [2, 741, 513, 17], [3, 719, 478, 22], [4, 690, 475, 26], [5, 722, 488, -16], [6, 687, 476, -22], [7, 688, 493, -24], [8, 697, 503, -23], [9, 693, 497, -28], [10, 663, 491, -28], [11, 664, 507, -23], [12, 672, 516, -23], [13, 665, 511, -35], [14, 638, 500, -49], [15, 640, 515, -45], [16, 650, 525, -41], [17, 640, 527, -39], [18, 616, 490, -53], [19, 600, 467, -55], [20, 591, 446, -55]]\n"
     ]
    }
   ],
   "source": [
    "print(HandOneLandMarksDict[0])"
   ]
  },
  {
   "cell_type": "code",
   "execution_count": 10,
   "metadata": {},
   "outputs": [
    {
     "name": "stdout",
     "output_type": "stream",
     "text": [
      "[0, 512, 600, 0]\n"
     ]
    }
   ],
   "source": [
    "print(HandOneLandMarksDict[1][0])"
   ]
  },
  {
   "cell_type": "code",
   "execution_count": 11,
   "metadata": {},
   "outputs": [
    {
     "name": "stdout",
     "output_type": "stream",
     "text": [
      "17\n"
     ]
    }
   ],
   "source": [
    "print(HandOneLandMarksDict[0][2][3])"
   ]
  }
 ],
 "metadata": {
  "kernelspec": {
   "display_name": "Python 3",
   "language": "python",
   "name": "python3"
  },
  "language_info": {
   "codemirror_mode": {
    "name": "ipython",
    "version": 3
   },
   "file_extension": ".py",
   "mimetype": "text/x-python",
   "name": "python",
   "nbconvert_exporter": "python",
   "pygments_lexer": "ipython3",
   "version": "0.0.0"
  }
 },
 "nbformat": 4,
 "nbformat_minor": 2
}
