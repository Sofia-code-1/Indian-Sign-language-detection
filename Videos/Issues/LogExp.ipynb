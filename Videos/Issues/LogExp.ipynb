{
 "cells": [
  {
   "cell_type": "code",
   "execution_count": 14,
   "metadata": {},
   "outputs": [],
   "source": [
    "class logging:\n",
    "    def __init__(self):\n",
    "        self.file_path = ''\n",
    "        self.hand_1_log_count = 0\n",
    "        self.hand_2_log_count = 0\n",
    "\n",
    "    def set_log_file_path(self,file_path):\n",
    "        self.file_path = file_path\n",
    "\n",
    "    def set_log_file_path_for_symbol(self,file_path,symbol=''):\n",
    "        self.file_path = file_path\n",
    "        if symbol != \"\":\n",
    "           index_for_dot = file_path.find('.')\n",
    "           if index_for_dot != -1:  \n",
    "              file_path = file_path[:index_for_dot]+ '_' + symbol.lower()+ file_path[index_for_dot:]\n",
    "        else:\n",
    "           index_for_dot = file_path.find('.')\n",
    "           if index_for_dot == -1:\n",
    "              file_path = file_path+ '.txt'\n",
    "\n",
    "    def open_log_file(self,file_path,symbol=''):\n",
    "        self.set_log_file_path_for_symbol(file_path,symbol)\n",
    "        with open(self.file_path, 'w') as f: \n",
    "            if symbol == '':\n",
    "                f.write(\"logging!!!\") \n",
    "            else:\n",
    "                f.write(\"logging for the symbol \" + symbol + \" !!!\") \n",
    "\n",
    "            f.write(\"\\n\")\n",
    "            f.close()\n",
    "\n",
    "    def write_message(self,message):\n",
    "        with open(self.file_path, \"a\") as f: \n",
    "            f.write(message) \n",
    "            f.write(\"\\n\")\n",
    "            f.close()\n",
    "\n",
    "    def write_hand_info(self,hand_info):\n",
    "        with open(self.file_path, \"a\") as f: \n",
    "          f.write(str(hand_info)) \n",
    "          f.write(\"\\n\")\n",
    "          f.close()\n",
    "\n",
    "    def write_hand_landmarks(self,hand_name,hand_info):\n",
    "        with open(self.file_path, \"a\") as f:\n",
    "          if   hand_name == \"hand_1\":\n",
    "              f.write(\"HandOneLandMarksDict[\" + str(self.hand_1_log_count) + \"]=np.array(\")\n",
    "              self.hand_1_log_count +=1\n",
    "          elif hand_name == \"hand_2\":\n",
    "              f.write(\"HandTwoLandMarksDict[\" + str(self.hand_2_log_count) + \"]=np.array(\")\n",
    "              self.hand_2_log_count +=1\n",
    "\n",
    "          f.write(str(hand_info.HandLandMarks)) \n",
    "          f.write(\")\\n\")\n",
    "          f.close()\n"
   ]
  },
  {
   "cell_type": "code",
   "execution_count": 16,
   "metadata": {},
   "outputs": [],
   "source": [
    "import hand_information as hi\n",
    "hand_1_info = hi.hand_info()\n",
    "\n",
    "log = logging()\n",
    "log.open_log_file(\"Logging.txt\",\"Test2\")\n",
    "log.write_hand_landmarks(\"hand_1\",hand_1_info)"
   ]
  }
 ],
 "metadata": {
  "kernelspec": {
   "display_name": "Python 3",
   "language": "python",
   "name": "python3"
  },
  "language_info": {
   "codemirror_mode": {
    "name": "ipython",
    "version": 3
   },
   "file_extension": ".py",
   "mimetype": "text/x-python",
   "name": "python",
   "nbconvert_exporter": "python",
   "pygments_lexer": "ipython3",
   "version": "3.7.4"
  }
 },
 "nbformat": 4,
 "nbformat_minor": 2
}
